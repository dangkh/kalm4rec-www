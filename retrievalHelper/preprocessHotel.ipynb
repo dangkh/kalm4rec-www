{
 "cells": [
  {
   "cell_type": "code",
   "execution_count": 1,
   "id": "2c58f1de-74fd-4339-8bb3-15b571be54fa",
   "metadata": {},
   "outputs": [],
   "source": [
    "import json\n",
    "import re\n",
    "from tqdm import tqdm\n",
    "from collections import Counter\n",
    "import pandas as pd\n"
   ]
  },
  {
   "cell_type": "code",
   "execution_count": 2,
   "id": "4e91d194-1d55-4701-8549-a45287f78e98",
   "metadata": {},
   "outputs": [],
   "source": [
    "tmp = []\n",
    "def process_line(line):\n",
    "    try:\n",
    "        data = json.loads(line.strip())\n",
    "        text = data.get('text', '')\n",
    "        author_username = data.get('author', {}).get('username', '')\n",
    "        author_uid = data.get('author', {}).get('id', '')\n",
    "        author_nrv = data.get('author', {}).get('num_reviews', 0)\n",
    "        offerID = data.get('offering_id', '')\n",
    "        rating = data.get('ratings', {}).get('overall', '0')\n",
    "        id = data.get('id', '')\n",
    "        \n",
    "    except json.JSONDecodeError as e:\n",
    "        print(f\"Error decoding JSON: {e}\")\n",
    "    return author_uid, offerID, id, author_nrv, text, rating"
   ]
  },
  {
   "cell_type": "code",
   "execution_count": 3,
   "id": "893e554c-e425-475b-be7d-d4dc5714613a",
   "metadata": {},
   "outputs": [
    {
     "name": "stderr",
     "output_type": "stream",
     "text": [
      "878561it [00:10, 82902.31it/s]\n"
     ]
    },
    {
     "name": "stdout",
     "output_type": "stream",
     "text": [
      "576689 3945 878561\n"
     ]
    }
   ],
   "source": [
    "file_path = './data/reviews/tripAdvisor.txt'  \n",
    "\n",
    "lauthor = []\n",
    "loid = []\n",
    "lid = []\n",
    "lnrv = []\n",
    "ltext = []\n",
    "lrate = []\n",
    "\n",
    "with open(file_path, 'r', encoding='utf-8') as file:\n",
    "  for line in tqdm(file):\n",
    "    author, offerID, id, author_nrv, text, rate = process_line(line)\n",
    "    lauthor.append(author)\n",
    "    loid.append(offerID)\n",
    "    lid.append(id)\n",
    "    lnrv.append(author_nrv)\n",
    "    ltext.append(text)\n",
    "    lrate.append(rate)\n",
    "\n",
    "lau = set(lauthor)\n",
    "lo = set(loid)\n",
    "li = set(lid)\n",
    "print(len(lau), len(lo), len(li))"
   ]
  },
  {
   "cell_type": "code",
   "execution_count": 4,
   "id": "362d526b-fce7-4b08-b980-5087956af61d",
   "metadata": {},
   "outputs": [
    {
     "name": "stdout",
     "output_type": "stream",
     "text": [
      "11974\n",
      "11973\n"
     ]
    }
   ],
   "source": [
    "tmp = Counter(lauthor)\n",
    "finalAuth = []\n",
    "for k, v in tmp.items():\n",
    "  if v >= 5:\n",
    "    finalAuth.append(k)\n",
    "print(len(finalAuth))\n",
    "if \"\" in finalAuth:\n",
    "  finalAuth.remove(\"\")\n",
    "print(len(finalAuth))"
   ]
  },
  {
   "cell_type": "code",
   "execution_count": 19,
   "id": "9de28eea-31d2-4e43-9d09-679217e3c815",
   "metadata": {},
   "outputs": [
    {
     "name": "stderr",
     "output_type": "stream",
     "text": [
      "100%|████████████████████████████████████████████████████████████████████████| 878561/878561 [03:23<00:00, 4321.65it/s]"
     ]
    },
    {
     "name": "stdout",
     "output_type": "stream",
     "text": [
      "84904 84904 84904 84904\n"
     ]
    },
    {
     "name": "stderr",
     "output_type": "stream",
     "text": [
      "\n"
     ]
    }
   ],
   "source": [
    "# given lists lauthor, loid, lid, lnrv and given list final author, only keep in list the author that appear in final author list\n",
    "\n",
    "lauthor_filtered = []\n",
    "loid_filtered = []\n",
    "lid_filtered = []\n",
    "lnrv_filtered = []\n",
    "ltext_filtered = []\n",
    "lrate_filtered = []\n",
    "\n",
    "for i in tqdm(range(len(lauthor))):\n",
    "  if lauthor[i] in finalAuth:\n",
    "    lauthor_filtered.append(lauthor[i])\n",
    "    loid_filtered.append(loid[i])\n",
    "    lid_filtered.append(lid[i])\n",
    "    lnrv_filtered.append(lnrv[i])\n",
    "    ltext_filtered.append(ltext[i])\n",
    "    lrate_filtered.append(lrate[i])\n",
    "      \n",
    "\n",
    "print(len(lauthor_filtered), len(loid_filtered), len(lid_filtered), len(lnrv_filtered))\n"
   ]
  },
  {
   "cell_type": "markdown",
   "id": "ac5c6681-8652-4838-8aa8-35fbf62413b3",
   "metadata": {},
   "source": [
    "## 11974 user has more than 4 review"
   ]
  },
  {
   "cell_type": "code",
   "execution_count": null,
   "id": "94754108-1a30-4545-ba90-7e2229ed1736",
   "metadata": {},
   "outputs": [],
   "source": [
    "df = pd.DataFrame({\n",
    "    'user_id': lauthor_filtered,\n",
    "    'rest_id': loid_filtered,\n",
    "    'review_id': lid_filtered,\n",
    "    'rating': lrate_filtered,\n",
    "    'text': ltext_filtered\n",
    "})\n",
    "df.to_csv('./data/reviews/tripAdvisor.csv', index=False)"
   ]
  },
  {
   "cell_type": "code",
   "execution_count": 20,
   "id": "ada6621b-b8ed-4a05-9f5a-f05df894bb82",
   "metadata": {},
   "outputs": [],
   "source": [
    "import random\n",
    "\n",
    "test_percentage = 0.2\n",
    "num_test_authors = int(len(finalAuth) * test_percentage)\n",
    "test_authors = random.sample(finalAuth, num_test_authors)\n",
    "train_authors = [author for author in finalAuth if author not in test_authors]\n"
   ]
  },
  {
   "cell_type": "code",
   "execution_count": 21,
   "id": "c2062b0d-4f13-46f6-94f7-d82f8eb6fdce",
   "metadata": {},
   "outputs": [
    {
     "name": "stdout",
     "output_type": "stream",
     "text": [
      "Number of authors in training set: 9579\n",
      "Number of authors in testing set: 2394\n"
     ]
    }
   ],
   "source": [
    "print(\"Number of authors in training set:\", len(train_authors))\n",
    "print(\"Number of authors in testing set:\", len(test_authors))"
   ]
  },
  {
   "cell_type": "code",
   "execution_count": null,
   "id": "3397ba9d-bbcc-4b43-87d5-25c19d2c83a7",
   "metadata": {},
   "outputs": [],
   "source": [
    "#  save train and test to json as following: {\"tripadvisor\": {\"train\": [\"PVyZXgOkVtnU6966FDFhuw\",..], \"test\": [\"PVyZXgOkVtnU6966FDFhuw\",..]}}\n",
    "\n",
    "data = {\n",
    "    \"tripAdvisor\": {\n",
    "        \"train\": train_authors,\n",
    "        \"test\": test_authors\n",
    "    }\n",
    "}\n",
    "\n",
    "with open('./data/reviews/tripAdvisor_splits.json', 'w') as f:\n",
    "  json.dump(data, f)\n"
   ]
  },
  {
   "cell_type": "markdown",
   "id": "83ed3f74-6e23-4ccd-aace-2413412da0d2",
   "metadata": {},
   "source": [
    "## Hotel Information"
   ]
  },
  {
   "cell_type": "code",
   "execution_count": 17,
   "id": "806773e8-7ff1-4977-a486-89f09380e0d2",
   "metadata": {},
   "outputs": [],
   "source": [
    "def process_line2(line):\n",
    "    try:\n",
    "        data = json.loads(line.strip())\n",
    "        id = data.get('id', '')\n",
    "        locality = data.get('address', {}).get('locality', '')\n",
    "        name = data.get('name', '')\n",
    "        region = data.get('address', {}).get('region', '')\n",
    "        region_id = data.get('region_id', '')\n",
    "\n",
    "    except json.JSONDecodeError as e:\n",
    "        print(f\"Error decoding JSON: {e}\")\n",
    "    return id, locality, name, region, region_id"
   ]
  },
  {
   "cell_type": "code",
   "execution_count": 18,
   "id": "d3751441-2af6-4755-83f7-f9e498d8ac3c",
   "metadata": {},
   "outputs": [
    {
     "name": "stdout",
     "output_type": "stream",
     "text": [
      "4333\n"
     ]
    }
   ],
   "source": [
    "file_path = './data/reviews/hotel.txt'\n",
    "\n",
    "counter = 0\n",
    "hotelID = []\n",
    "llocality = []\n",
    "lname = []\n",
    "lregion = []\n",
    "lregion_id = []\n",
    "with open(file_path, 'r', encoding='utf-8') as file:\n",
    "  for line in file:\n",
    "    id, locality, name, region, region_id = process_line2(line)\n",
    "    hotelID.append(id)\n",
    "    llocality.append(locality)\n",
    "    lname.append(name)\n",
    "    lregion.append(region)\n",
    "    lregion_id.append(region_id)\n",
    "    counter += 1\n",
    "print(counter)"
   ]
  },
  {
   "cell_type": "code",
   "execution_count": 19,
   "id": "e350c503-c6cc-4383-a205-578298b6ee29",
   "metadata": {},
   "outputs": [],
   "source": [
    "df2 = pd.DataFrame({\n",
    "    'hotelID': hotelID,\n",
    "    'locality': llocality,\n",
    "    'name': lname,\n",
    "    'region': lregion,\n",
    "    'region_id': lregion_id\n",
    "})\n",
    "df2.to_csv('./data/reviews/hotel.csv', index=False)"
   ]
  },
  {
   "cell_type": "code",
   "execution_count": 23,
   "id": "4d61240b-d267-4d46-9b66-15ed4b199626",
   "metadata": {},
   "outputs": [
    {
     "name": "stderr",
     "output_type": "stream",
     "text": [
      "100%|███████████████████████████████████████████████████████████████████████████| 11973/11973 [01:37<00:00, 122.23it/s]"
     ]
    },
    {
     "name": "stdout",
     "output_type": "stream",
     "text": [
      "Counter({3: 3198, 4: 3012, 2: 2043, 5: 1735, 1: 765, 6: 699, 7: 286, 8: 120, 9: 62, 10: 27, 11: 15, 12: 6, 14: 2, 13: 2, 16: 1})\n"
     ]
    },
    {
     "name": "stderr",
     "output_type": "stream",
     "text": [
      "\n"
     ]
    }
   ],
   "source": [
    "# given authorID, obtain number of region by hotelID\n",
    "\n",
    "def get_region_by_author(authorID):\n",
    "  df_filtered = df[df['user_id'] == authorID]\n",
    "  hotelIDs = df_filtered['rest_id'].tolist()\n",
    "  df2_filtered = df2[df2['hotelID'].isin(hotelIDs)]\n",
    "  regions = df2_filtered['region_id'].unique()\n",
    "  return regions\n",
    "\n",
    "author_region ={}\n",
    "for idx in tqdm(range(len(finalAuth))):\n",
    "    authorID = finalAuth[idx]\n",
    "    regions = get_num_region_by_author(authorID)\n",
    "    author_region[authorID] = regions\n",
    "#   print(f\"Number of regions visited by author {authorID}: {num_regions}\")\n",
    "\n",
    "freq = Counter(author_freq)\n",
    "print(freq)"
   ]
  },
  {
   "cell_type": "code",
   "execution_count": 27,
   "id": "b9fc7384-06d5-471f-b0e0-df2da8e55a49",
   "metadata": {},
   "outputs": [],
   "source": [
    "for key in author_region:\n",
    "  author_region[key] = author_region[key].tolist()\n",
    "with open('./data/reviews/user2region.json', 'w') as f:\n",
    "  json.dump(author_region, f)"
   ]
  }
 ],
 "metadata": {
  "kernelspec": {
   "display_name": "Python 3 (ipykernel)",
   "language": "python",
   "name": "python3"
  },
  "language_info": {
   "codemirror_mode": {
    "name": "ipython",
    "version": 3
   },
   "file_extension": ".py",
   "mimetype": "text/x-python",
   "name": "python",
   "nbconvert_exporter": "python",
   "pygments_lexer": "ipython3",
   "version": "3.9.21"
  }
 },
 "nbformat": 4,
 "nbformat_minor": 5
}
