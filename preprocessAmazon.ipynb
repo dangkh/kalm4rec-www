{
 "cells": [
  {
   "cell_type": "code",
   "execution_count": 1,
   "id": "ea4804f6-09f9-4487-9a8b-386e2c516adb",
   "metadata": {},
   "outputs": [],
   "source": [
    "import pandas as pd\n",
    "import gzip\n",
    "import json\n"
   ]
  },
  {
   "cell_type": "code",
   "execution_count": 2,
   "id": "5c02ed6c-1527-440a-b35b-4a5e9cd299c5",
   "metadata": {},
   "outputs": [],
   "source": [
    "from tqdm import tqdm"
   ]
  },
  {
   "cell_type": "code",
   "execution_count": 3,
   "id": "d600acf5-9c19-4e28-8912-220e60aca1b9",
   "metadata": {},
   "outputs": [],
   "source": [
    "subset = \"Beauty_and_Personal_Care\"\n",
    "nametofile = \"amazon_\"+subset"
   ]
  },
  {
   "cell_type": "code",
   "execution_count": 4,
   "id": "dfab182a-66ff-418b-afec-356c22e83faa",
   "metadata": {},
   "outputs": [],
   "source": [
    "def parse(path):\n",
    "  g = gzip.open(path, 'rb')\n",
    "  for l in g:\n",
    "    yield json.loads(l)\n",
    "\n",
    "def getDF(path):\n",
    "  i = 0\n",
    "  df = {}\n",
    "  for d in tqdm(parse(path)):\n",
    "    df[i] = d\n",
    "    i += 1\n",
    "    if i>7000000:\n",
    "        break\n",
    "  return pd.DataFrame.from_dict(df, orient='index')\n",
    "    \n",
    "def getDF2(path):\n",
    "  i = 0\n",
    "  df = {}\n",
    "  for d in tqdm(parse(path)):\n",
    "    i += 1\n",
    "    if i<=7000000:\n",
    "        continue\n",
    "    df[i] = d\n",
    "    \n",
    "  return pd.DataFrame.from_dict(df, orient='index')\n"
   ]
  },
  {
   "cell_type": "code",
   "execution_count": 5,
   "id": "4b39a3ae-6d63-471c-ba6c-356182079805",
   "metadata": {},
   "outputs": [
    {
     "name": "stderr",
     "output_type": "stream",
     "text": [
      "7000000it [01:32, 75598.97it/s] \n"
     ]
    }
   ],
   "source": [
    "df = getDF(f'./data/{subset}.jsonl.gz')"
   ]
  },
  {
   "cell_type": "code",
   "execution_count": null,
   "id": "1b0b4ae2-2f65-4f3f-8c13-93762def3fb0",
   "metadata": {},
   "outputs": [
    {
     "name": "stderr",
     "output_type": "stream",
     "text": [
      "11394462it [07:58, 96928.77it/s] "
     ]
    }
   ],
   "source": [
    "df2 = getDF2(f'./data/{subset}.jsonl.gz')"
   ]
  },
  {
   "cell_type": "code",
   "execution_count": 6,
   "id": "12300ccf-9b3f-4b20-9fef-9b721f3d7250",
   "metadata": {},
   "outputs": [],
   "source": [
    "df = df.dropna()"
   ]
  },
  {
   "cell_type": "code",
   "execution_count": 7,
   "id": "16e752a8-c6fb-4032-8795-013bb50124b3",
   "metadata": {},
   "outputs": [],
   "source": [
    "new_df = df[[\"title\", \"text\", \"asin\", \"user_id\"]]\n"
   ]
  },
  {
   "cell_type": "code",
   "execution_count": 8,
   "id": "2cd950c6-b044-4124-b9ee-5651570343e5",
   "metadata": {},
   "outputs": [
    {
     "data": {
      "text/html": [
       "<div>\n",
       "<style scoped>\n",
       "    .dataframe tbody tr th:only-of-type {\n",
       "        vertical-align: middle;\n",
       "    }\n",
       "\n",
       "    .dataframe tbody tr th {\n",
       "        vertical-align: top;\n",
       "    }\n",
       "\n",
       "    .dataframe thead th {\n",
       "        text-align: right;\n",
       "    }\n",
       "</style>\n",
       "<table border=\"1\" class=\"dataframe\">\n",
       "  <thead>\n",
       "    <tr style=\"text-align: right;\">\n",
       "      <th></th>\n",
       "      <th>title</th>\n",
       "      <th>text</th>\n",
       "      <th>asin</th>\n",
       "      <th>user_id</th>\n",
       "    </tr>\n",
       "  </thead>\n",
       "  <tbody>\n",
       "    <tr>\n",
       "      <th>0</th>\n",
       "      <td>Excellent!  Yummy!</td>\n",
       "      <td>Excellent!! Yummy!  Great with other foods and...</td>\n",
       "      <td>B00CM36GAQ</td>\n",
       "      <td>AFKZENTNBQ7A7V7UXW5JJI6UGRYQ</td>\n",
       "    </tr>\n",
       "    <tr>\n",
       "      <th>1</th>\n",
       "      <td>Delicious!!! Yum!</td>\n",
       "      <td>Excellent!  The best!  I use it with my beef a...</td>\n",
       "      <td>B074J5WVYH</td>\n",
       "      <td>AFKZENTNBQ7A7V7UXW5JJI6UGRYQ</td>\n",
       "    </tr>\n",
       "    <tr>\n",
       "      <th>2</th>\n",
       "      <td>Extremely Delicious, but expensive imo</td>\n",
       "      <td>These are very tasty. They are extremely soft ...</td>\n",
       "      <td>B079TRNVHX</td>\n",
       "      <td>AFKZENTNBQ7A7V7UXW5JJI6UGRYQ</td>\n",
       "    </tr>\n",
       "    <tr>\n",
       "      <th>3</th>\n",
       "      <td>Delicious!</td>\n",
       "      <td>My favorite!</td>\n",
       "      <td>B07194LN2Z</td>\n",
       "      <td>AFKZENTNBQ7A7V7UXW5JJI6UGRYQ</td>\n",
       "    </tr>\n",
       "    <tr>\n",
       "      <th>4</th>\n",
       "      <td>Great taste</td>\n",
       "      <td>Great for making brownies and crinkle cookies.</td>\n",
       "      <td>B005CD4196</td>\n",
       "      <td>AFKZENTNBQ7A7V7UXW5JJI6UGRYQ</td>\n",
       "    </tr>\n",
       "    <tr>\n",
       "      <th>...</th>\n",
       "      <td>...</td>\n",
       "      <td>...</td>\n",
       "      <td>...</td>\n",
       "      <td>...</td>\n",
       "    </tr>\n",
       "    <tr>\n",
       "      <th>6999996</th>\n",
       "      <td>Quite a bargain</td>\n",
       "      <td>What's not to like? Shelled pistachios, very f...</td>\n",
       "      <td>B00K6FBMYM</td>\n",
       "      <td>AG7S5NL4OQQKBUG3TKAL76GHUPZQ</td>\n",
       "    </tr>\n",
       "    <tr>\n",
       "      <th>6999997</th>\n",
       "      <td>Super fast delivery</td>\n",
       "      <td>This is a good low acid coffee. I can't drink ...</td>\n",
       "      <td>B0815B75PX</td>\n",
       "      <td>AG7S5NL4OQQKBUG3TKAL76GHUPZQ</td>\n",
       "    </tr>\n",
       "    <tr>\n",
       "      <th>6999998</th>\n",
       "      <td>Tangy and not too hot</td>\n",
       "      <td>This is my favorite hot sauce, because it is n...</td>\n",
       "      <td>B00B0NQ186</td>\n",
       "      <td>AG7S5NL4OQQKBUG3TKAL76GHUPZQ</td>\n",
       "    </tr>\n",
       "    <tr>\n",
       "      <th>6999999</th>\n",
       "      <td>Good flavor, low acid</td>\n",
       "      <td>Very good flavor, but low acid. I really can't...</td>\n",
       "      <td>B073VV4GZB</td>\n",
       "      <td>AG7S5NL4OQQKBUG3TKAL76GHUPZQ</td>\n",
       "    </tr>\n",
       "    <tr>\n",
       "      <th>7000000</th>\n",
       "      <td>Other coffee has a better flavor, but I just c...</td>\n",
       "      <td>I have been getting 5 pounds every two months ...</td>\n",
       "      <td>B002GWHCNS</td>\n",
       "      <td>AG7S5NL4OQQKBUG3TKAL76GHUPZQ</td>\n",
       "    </tr>\n",
       "  </tbody>\n",
       "</table>\n",
       "<p>7000001 rows × 4 columns</p>\n",
       "</div>"
      ],
      "text/plain": [
       "                                                     title  \\\n",
       "0                                       Excellent!  Yummy!   \n",
       "1                                        Delicious!!! Yum!   \n",
       "2                   Extremely Delicious, but expensive imo   \n",
       "3                                               Delicious!   \n",
       "4                                              Great taste   \n",
       "...                                                    ...   \n",
       "6999996                                    Quite a bargain   \n",
       "6999997                                Super fast delivery   \n",
       "6999998                              Tangy and not too hot   \n",
       "6999999                              Good flavor, low acid   \n",
       "7000000  Other coffee has a better flavor, but I just c...   \n",
       "\n",
       "                                                      text        asin  \\\n",
       "0        Excellent!! Yummy!  Great with other foods and...  B00CM36GAQ   \n",
       "1        Excellent!  The best!  I use it with my beef a...  B074J5WVYH   \n",
       "2        These are very tasty. They are extremely soft ...  B079TRNVHX   \n",
       "3                                             My favorite!  B07194LN2Z   \n",
       "4           Great for making brownies and crinkle cookies.  B005CD4196   \n",
       "...                                                    ...         ...   \n",
       "6999996  What's not to like? Shelled pistachios, very f...  B00K6FBMYM   \n",
       "6999997  This is a good low acid coffee. I can't drink ...  B0815B75PX   \n",
       "6999998  This is my favorite hot sauce, because it is n...  B00B0NQ186   \n",
       "6999999  Very good flavor, but low acid. I really can't...  B073VV4GZB   \n",
       "7000000  I have been getting 5 pounds every two months ...  B002GWHCNS   \n",
       "\n",
       "                              user_id  \n",
       "0        AFKZENTNBQ7A7V7UXW5JJI6UGRYQ  \n",
       "1        AFKZENTNBQ7A7V7UXW5JJI6UGRYQ  \n",
       "2        AFKZENTNBQ7A7V7UXW5JJI6UGRYQ  \n",
       "3        AFKZENTNBQ7A7V7UXW5JJI6UGRYQ  \n",
       "4        AFKZENTNBQ7A7V7UXW5JJI6UGRYQ  \n",
       "...                               ...  \n",
       "6999996  AG7S5NL4OQQKBUG3TKAL76GHUPZQ  \n",
       "6999997  AG7S5NL4OQQKBUG3TKAL76GHUPZQ  \n",
       "6999998  AG7S5NL4OQQKBUG3TKAL76GHUPZQ  \n",
       "6999999  AG7S5NL4OQQKBUG3TKAL76GHUPZQ  \n",
       "7000000  AG7S5NL4OQQKBUG3TKAL76GHUPZQ  \n",
       "\n",
       "[7000001 rows x 4 columns]"
      ]
     },
     "execution_count": 8,
     "metadata": {},
     "output_type": "execute_result"
    }
   ],
   "source": [
    "new_df"
   ]
  },
  {
   "cell_type": "code",
   "execution_count": 8,
   "id": "a907db18-43a1-4da8-b7bf-253d6bfece68",
   "metadata": {},
   "outputs": [],
   "source": [
    "def checkmydf(mydf, name=\"asin\"):\n",
    "    num_unique_user_id = mydf[\"user_id\"].nunique()\n",
    "    num_unique_asin = mydf[name].nunique()\n",
    "    \n",
    "    # Print unique counts\n",
    "    print(\"Number of unique user_id:\", num_unique_user_id)\n",
    "    print(\"Number of unique asin:\", num_unique_asin)"
   ]
  },
  {
   "cell_type": "code",
   "execution_count": 10,
   "id": "8091ed5e-1d24-4c05-96ba-11977400a543",
   "metadata": {},
   "outputs": [
    {
     "name": "stdout",
     "output_type": "stream",
     "text": [
      "Number of unique user_id: 2254352\n",
      "Number of unique asin: 569350\n",
      "Filtered DataFrame saved to 'filtered_data.csv'\n"
     ]
    }
   ],
   "source": [
    "checkmydf(new_df)\n",
    "\n",
    "# Save the filtered DataFrame to a CSV file\n",
    "new_df.to_csv(f\"./data/reviews/filtered_data{nametofile}.csv\", index=False)\n",
    "\n",
    "print(\"Filtered DataFrame saved to 'filtered_data.csv'\")"
   ]
  },
  {
   "cell_type": "code",
   "execution_count": 5,
   "id": "278ee4e2-811c-457a-8143-6586824deaa0",
   "metadata": {},
   "outputs": [],
   "source": [
    "new_df = pd.read_csv(f\"./data/reviews/filtered_data{nametofile}.csv\")"
   ]
  },
  {
   "cell_type": "code",
   "execution_count": 29,
   "id": "136db804-917f-4e07-9773-328281f785de",
   "metadata": {},
   "outputs": [],
   "source": [
    "asin_counts = new_df['asin'].value_counts()\n",
    "valid_asins = asin_counts[asin_counts >= 20].index\n",
    "df_filtered = new_df[new_df['asin'].isin(valid_asins)]"
   ]
  },
  {
   "cell_type": "code",
   "execution_count": 9,
   "id": "2b545531-6e78-4c4d-b05d-97c67dc4ffa3",
   "metadata": {},
   "outputs": [
    {
     "name": "stdout",
     "output_type": "stream",
     "text": [
      "Number of unique user_id: 2698416\n",
      "Number of unique asin: 82590\n"
     ]
    }
   ],
   "source": [
    "checkmydf(df_filtered)"
   ]
  },
  {
   "cell_type": "code",
   "execution_count": null,
   "id": "f09aa13c-b3cb-4c71-86e1-adab1e5bdd11",
   "metadata": {},
   "outputs": [],
   "source": [
    "# unique_asin = df_filtered[\"asin\"].unique()\n",
    "# sampled_asins = pd.Series(unique_asin).sample(n=20000, random_state=1009)\n",
    "# df_subset = df_filtered[df_filtered['asin'].isin(sampled_asins)]"
   ]
  },
  {
   "cell_type": "code",
   "execution_count": null,
   "id": "92932774-c9b3-4725-8d65-ec039c069419",
   "metadata": {},
   "outputs": [],
   "source": [
    "# def get_top_k_users(df, k):\n",
    "#     return df['user_id'].value_counts().head(k).index.tolist()"
   ]
  },
  {
   "cell_type": "code",
   "execution_count": null,
   "id": "fe5694ef-76f0-454e-8e7e-0804022bcde0",
   "metadata": {},
   "outputs": [],
   "source": [
    "# listKu = get_top_k_users(df_filtered, 20000)"
   ]
  },
  {
   "cell_type": "code",
   "execution_count": 30,
   "id": "4bf93848-767a-48fa-8d70-02e3c3be2efc",
   "metadata": {},
   "outputs": [],
   "source": [
    "df_subset = df_filtered\n",
    "# df_filtered = filtered_users_df\n",
    "# df_subset = df_filtered[df_filtered['user_id'].isin(listKu)]\n"
   ]
  },
  {
   "cell_type": "code",
   "execution_count": 33,
   "id": "529445e2-ace7-436f-9cac-ca13386c386a",
   "metadata": {},
   "outputs": [],
   "source": [
    "df_subset = df_subset.dropna()"
   ]
  },
  {
   "cell_type": "code",
   "execution_count": 34,
   "id": "d0a1faf6-08eb-4d95-b785-a46277bf986d",
   "metadata": {},
   "outputs": [
    {
     "data": {
      "text/html": [
       "<div>\n",
       "<style scoped>\n",
       "    .dataframe tbody tr th:only-of-type {\n",
       "        vertical-align: middle;\n",
       "    }\n",
       "\n",
       "    .dataframe tbody tr th {\n",
       "        vertical-align: top;\n",
       "    }\n",
       "\n",
       "    .dataframe thead th {\n",
       "        text-align: right;\n",
       "    }\n",
       "</style>\n",
       "<table border=\"1\" class=\"dataframe\">\n",
       "  <thead>\n",
       "    <tr style=\"text-align: right;\">\n",
       "      <th></th>\n",
       "      <th>title</th>\n",
       "      <th>text</th>\n",
       "      <th>asin</th>\n",
       "      <th>user_id</th>\n",
       "    </tr>\n",
       "  </thead>\n",
       "  <tbody>\n",
       "    <tr>\n",
       "      <th>0</th>\n",
       "      <td>Gasoline!! Seriously reeks of gasoline!</td>\n",
       "      <td>Opened the package &amp; instant migraine. I canno...</td>\n",
       "      <td>B00Z03RC80</td>\n",
       "      <td>AFKZENTNBQ7A7V7UXW5JJI6UGRYQ</td>\n",
       "    </tr>\n",
       "    <tr>\n",
       "      <th>1</th>\n",
       "      <td>Useless!  These have massive gaps at pump nozzle.</td>\n",
       "      <td>Tops the list for worst purchase. Tried these ...</td>\n",
       "      <td>B085PRT2MP</td>\n",
       "      <td>AFKZENTNBQ7A7V7UXW5JJI6UGRYQ</td>\n",
       "    </tr>\n",
       "    <tr>\n",
       "      <th>3</th>\n",
       "      <td>Not sharp enough to cut smoothly.</td>\n",
       "      <td>These are extremely dull and will wreck your n...</td>\n",
       "      <td>B07YYG76X1</td>\n",
       "      <td>AFKZENTNBQ7A7V7UXW5JJI6UGRYQ</td>\n",
       "    </tr>\n",
       "    <tr>\n",
       "      <th>4</th>\n",
       "      <td>Pretty, but didn’t close correctly.</td>\n",
       "      <td>Mine wouldn’t close correctly so I sent it bac...</td>\n",
       "      <td>B0761M33BX</td>\n",
       "      <td>AFKZENTNBQ7A7V7UXW5JJI6UGRYQ</td>\n",
       "    </tr>\n",
       "    <tr>\n",
       "      <th>5</th>\n",
       "      <td>Unbottled disappointment</td>\n",
       "      <td>I don't often leave negative feedback about pr...</td>\n",
       "      <td>B010TWN80W</td>\n",
       "      <td>AGGZ357AO26RQZVRLGU4D4N52DZQ</td>\n",
       "    </tr>\n",
       "    <tr>\n",
       "      <th>...</th>\n",
       "      <td>...</td>\n",
       "      <td>...</td>\n",
       "      <td>...</td>\n",
       "      <td>...</td>\n",
       "    </tr>\n",
       "    <tr>\n",
       "      <th>9999995</th>\n",
       "      <td>Small &amp; Mighty</td>\n",
       "      <td>I LOVE this stuff. I use it on my lips nightly...</td>\n",
       "      <td>B073X9M2GL</td>\n",
       "      <td>AFI45FMG3632MRERWUA34T7IWO7Q</td>\n",
       "    </tr>\n",
       "    <tr>\n",
       "      <th>9999996</th>\n",
       "      <td>Not on par with other products</td>\n",
       "      <td>Is there any product in the tube? Literally sc...</td>\n",
       "      <td>B08RS8S9KP</td>\n",
       "      <td>AFI45FMG3632MRERWUA34T7IWO7Q</td>\n",
       "    </tr>\n",
       "    <tr>\n",
       "      <th>9999997</th>\n",
       "      <td>Big and fluffy</td>\n",
       "      <td>These are so big!!! I love them. They're super...</td>\n",
       "      <td>B078V5WPPZ</td>\n",
       "      <td>AFI45FMG3632MRERWUA34T7IWO7Q</td>\n",
       "    </tr>\n",
       "    <tr>\n",
       "      <th>9999998</th>\n",
       "      <td>Best cleanser out there</td>\n",
       "      <td>While I LOVE this face wash and I truly do lov...</td>\n",
       "      <td>B015OWD370</td>\n",
       "      <td>AFI45FMG3632MRERWUA34T7IWO7Q</td>\n",
       "    </tr>\n",
       "    <tr>\n",
       "      <th>9999999</th>\n",
       "      <td>Not what I expected</td>\n",
       "      <td>The light is terrible &amp; the colors are very cl...</td>\n",
       "      <td>B09CD71RSD</td>\n",
       "      <td>AHEVWO3PK7UNZIGWCBXOTHBORF3A</td>\n",
       "    </tr>\n",
       "  </tbody>\n",
       "</table>\n",
       "<p>6998313 rows × 4 columns</p>\n",
       "</div>"
      ],
      "text/plain": [
       "                                                     title  \\\n",
       "0                  Gasoline!! Seriously reeks of gasoline!   \n",
       "1        Useless!  These have massive gaps at pump nozzle.   \n",
       "3                        Not sharp enough to cut smoothly.   \n",
       "4                      Pretty, but didn’t close correctly.   \n",
       "5                                 Unbottled disappointment   \n",
       "...                                                    ...   \n",
       "9999995                                     Small & Mighty   \n",
       "9999996                     Not on par with other products   \n",
       "9999997                                     Big and fluffy   \n",
       "9999998                            Best cleanser out there   \n",
       "9999999                                Not what I expected   \n",
       "\n",
       "                                                      text        asin  \\\n",
       "0        Opened the package & instant migraine. I canno...  B00Z03RC80   \n",
       "1        Tops the list for worst purchase. Tried these ...  B085PRT2MP   \n",
       "3        These are extremely dull and will wreck your n...  B07YYG76X1   \n",
       "4        Mine wouldn’t close correctly so I sent it bac...  B0761M33BX   \n",
       "5        I don't often leave negative feedback about pr...  B010TWN80W   \n",
       "...                                                    ...         ...   \n",
       "9999995  I LOVE this stuff. I use it on my lips nightly...  B073X9M2GL   \n",
       "9999996  Is there any product in the tube? Literally sc...  B08RS8S9KP   \n",
       "9999997  These are so big!!! I love them. They're super...  B078V5WPPZ   \n",
       "9999998  While I LOVE this face wash and I truly do lov...  B015OWD370   \n",
       "9999999  The light is terrible & the colors are very cl...  B09CD71RSD   \n",
       "\n",
       "                              user_id  \n",
       "0        AFKZENTNBQ7A7V7UXW5JJI6UGRYQ  \n",
       "1        AFKZENTNBQ7A7V7UXW5JJI6UGRYQ  \n",
       "3        AFKZENTNBQ7A7V7UXW5JJI6UGRYQ  \n",
       "4        AFKZENTNBQ7A7V7UXW5JJI6UGRYQ  \n",
       "5        AGGZ357AO26RQZVRLGU4D4N52DZQ  \n",
       "...                               ...  \n",
       "9999995  AFI45FMG3632MRERWUA34T7IWO7Q  \n",
       "9999996  AFI45FMG3632MRERWUA34T7IWO7Q  \n",
       "9999997  AFI45FMG3632MRERWUA34T7IWO7Q  \n",
       "9999998  AFI45FMG3632MRERWUA34T7IWO7Q  \n",
       "9999999  AHEVWO3PK7UNZIGWCBXOTHBORF3A  \n",
       "\n",
       "[6998313 rows x 4 columns]"
      ]
     },
     "execution_count": 34,
     "metadata": {},
     "output_type": "execute_result"
    }
   ],
   "source": [
    "df_subset "
   ]
  },
  {
   "cell_type": "code",
   "execution_count": 35,
   "id": "4389332c-d1f9-457b-b55d-d3568b4c4776",
   "metadata": {},
   "outputs": [
    {
     "name": "stderr",
     "output_type": "stream",
     "text": [
      "C:\\Users\\Admin\\AppData\\Local\\Temp\\ipykernel_13544\\4036187543.py:4: SettingWithCopyWarning: \n",
      "A value is trying to be set on a copy of a slice from a DataFrame\n",
      "\n",
      "See the caveats in the documentation: https://pandas.pydata.org/pandas-docs/stable/user_guide/indexing.html#returning-a-view-versus-a-copy\n",
      "  filtered_users_df.rename(columns={\"asin\": \"rest_id\"}, inplace=True)\n",
      "C:\\Users\\Admin\\AppData\\Local\\Temp\\ipykernel_13544\\4036187543.py:5: SettingWithCopyWarning: \n",
      "A value is trying to be set on a copy of a slice from a DataFrame.\n",
      "Try using .loc[row_indexer,col_indexer] = value instead\n",
      "\n",
      "See the caveats in the documentation: https://pandas.pydata.org/pandas-docs/stable/user_guide/indexing.html#returning-a-view-versus-a-copy\n",
      "  filtered_users_df[\"text\"] = filtered_users_df[\"title\"] + \". \" + filtered_users_df[\"text\"]\n",
      "C:\\Users\\Admin\\AppData\\Local\\Temp\\ipykernel_13544\\4036187543.py:6: SettingWithCopyWarning: \n",
      "A value is trying to be set on a copy of a slice from a DataFrame.\n",
      "Try using .loc[row_indexer,col_indexer] = value instead\n",
      "\n",
      "See the caveats in the documentation: https://pandas.pydata.org/pandas-docs/stable/user_guide/indexing.html#returning-a-view-versus-a-copy\n",
      "  filtered_users_df[\"review_id\"] = filtered_users_df.index\n"
     ]
    }
   ],
   "source": [
    "user_review_counts = df_subset[\"user_id\"].value_counts()\n",
    "users_with_at_least_5_reviews = user_review_counts[user_review_counts >= 25].index\n",
    "filtered_users_df = df_subset[df_subset[\"user_id\"].isin(users_with_at_least_5_reviews)]\n",
    "filtered_users_df.rename(columns={\"asin\": \"rest_id\"}, inplace=True)\n",
    "filtered_users_df[\"text\"] = filtered_users_df[\"title\"] + \". \" + filtered_users_df[\"text\"]\n",
    "filtered_users_df[\"review_id\"] = filtered_users_df.index\n",
    "\n",
    "asin_counts = filtered_users_df['rest_id'].value_counts()\n",
    "valid_asins = asin_counts[asin_counts >= 25].index\n",
    "filtered_users_df = filtered_users_df[filtered_users_df['rest_id'].isin(valid_asins)]\n",
    "\n",
    "\n",
    "filtered_users_df.to_csv(f\"./data/reviews/{nametofile}.csv\", index=False)\n"
   ]
  },
  {
   "cell_type": "code",
   "execution_count": 380,
   "id": "942c6796-49f0-448f-b0ff-987a608828c1",
   "metadata": {},
   "outputs": [],
   "source": [
    "filtered_users_df = pd.read_csv(f\"./data/reviews/{nametofile}.csv\")"
   ]
  },
  {
   "cell_type": "code",
   "execution_count": 36,
   "id": "c60d9bc5-fd0f-46c2-8086-2e0b68a1bed1",
   "metadata": {},
   "outputs": [
    {
     "data": {
      "text/html": [
       "<div>\n",
       "<style scoped>\n",
       "    .dataframe tbody tr th:only-of-type {\n",
       "        vertical-align: middle;\n",
       "    }\n",
       "\n",
       "    .dataframe tbody tr th {\n",
       "        vertical-align: top;\n",
       "    }\n",
       "\n",
       "    .dataframe thead th {\n",
       "        text-align: right;\n",
       "    }\n",
       "</style>\n",
       "<table border=\"1\" class=\"dataframe\">\n",
       "  <thead>\n",
       "    <tr style=\"text-align: right;\">\n",
       "      <th></th>\n",
       "      <th>title</th>\n",
       "      <th>text</th>\n",
       "      <th>rest_id</th>\n",
       "      <th>user_id</th>\n",
       "      <th>review_id</th>\n",
       "    </tr>\n",
       "  </thead>\n",
       "  <tbody>\n",
       "    <tr>\n",
       "      <th>222</th>\n",
       "      <td>Bad smell</td>\n",
       "      <td>Bad smell. I brought this to shine and clump c...</td>\n",
       "      <td>B0030F0U3Y</td>\n",
       "      <td>AEYORY2AVPMCPDV57CE337YU5LXA</td>\n",
       "      <td>222</td>\n",
       "    </tr>\n",
       "    <tr>\n",
       "      <th>227</th>\n",
       "      <td>Buy it</td>\n",
       "      <td>Buy it. This was my first Denman brush. I brou...</td>\n",
       "      <td>B00197623M</td>\n",
       "      <td>AEYORY2AVPMCPDV57CE337YU5LXA</td>\n",
       "      <td>227</td>\n",
       "    </tr>\n",
       "    <tr>\n",
       "      <th>230</th>\n",
       "      <td>Okay</td>\n",
       "      <td>Okay. This makes your skin feel nice. I wish i...</td>\n",
       "      <td>B007DGRT3K</td>\n",
       "      <td>AEYORY2AVPMCPDV57CE337YU5LXA</td>\n",
       "      <td>230</td>\n",
       "    </tr>\n",
       "    <tr>\n",
       "      <th>236</th>\n",
       "      <td>Wow</td>\n",
       "      <td>Wow. I’ve never used cuticle oil before so I d...</td>\n",
       "      <td>B00F644L32</td>\n",
       "      <td>AEYORY2AVPMCPDV57CE337YU5LXA</td>\n",
       "      <td>236</td>\n",
       "    </tr>\n",
       "    <tr>\n",
       "      <th>238</th>\n",
       "      <td>Get it</td>\n",
       "      <td>Get it. I was concerned about how this would l...</td>\n",
       "      <td>B018YOVQSI</td>\n",
       "      <td>AEYORY2AVPMCPDV57CE337YU5LXA</td>\n",
       "      <td>238</td>\n",
       "    </tr>\n",
       "    <tr>\n",
       "      <th>...</th>\n",
       "      <td>...</td>\n",
       "      <td>...</td>\n",
       "      <td>...</td>\n",
       "      <td>...</td>\n",
       "      <td>...</td>\n",
       "    </tr>\n",
       "    <tr>\n",
       "      <th>9996341</th>\n",
       "      <td>Impressive Little Thing</td>\n",
       "      <td>Impressive Little Thing. I've been wanting to ...</td>\n",
       "      <td>B004DIUX34</td>\n",
       "      <td>AHSLUOV2N2UYNJYQAK7YYONCMPHQ</td>\n",
       "      <td>9996341</td>\n",
       "    </tr>\n",
       "    <tr>\n",
       "      <th>9996345</th>\n",
       "      <td>Works Great as Primer and to Control Oil</td>\n",
       "      <td>Works Great as Primer and to Control Oil. This...</td>\n",
       "      <td>B000GCQ04C</td>\n",
       "      <td>AHSLUOV2N2UYNJYQAK7YYONCMPHQ</td>\n",
       "      <td>9996345</td>\n",
       "    </tr>\n",
       "    <tr>\n",
       "      <th>9996346</th>\n",
       "      <td>My New HG</td>\n",
       "      <td>My New HG. I finally tried this product after ...</td>\n",
       "      <td>B002ZTVMDI</td>\n",
       "      <td>AHSLUOV2N2UYNJYQAK7YYONCMPHQ</td>\n",
       "      <td>9996346</td>\n",
       "    </tr>\n",
       "    <tr>\n",
       "      <th>9996347</th>\n",
       "      <td>4.5 Stars--Don't Pass This Up</td>\n",
       "      <td>4.5 Stars--Don't Pass This Up. Overall, this l...</td>\n",
       "      <td>B002LFRRIK</td>\n",
       "      <td>AHSLUOV2N2UYNJYQAK7YYONCMPHQ</td>\n",
       "      <td>9996347</td>\n",
       "    </tr>\n",
       "    <tr>\n",
       "      <th>9996355</th>\n",
       "      <td>Good at first, but didn't hold up</td>\n",
       "      <td>Good at first, but didn't hold up. When I firs...</td>\n",
       "      <td>B004DIXYWG</td>\n",
       "      <td>AHSLUOV2N2UYNJYQAK7YYONCMPHQ</td>\n",
       "      <td>9996355</td>\n",
       "    </tr>\n",
       "  </tbody>\n",
       "</table>\n",
       "<p>64010 rows × 5 columns</p>\n",
       "</div>"
      ],
      "text/plain": [
       "                                            title  \\\n",
       "222                                     Bad smell   \n",
       "227                                        Buy it   \n",
       "230                                          Okay   \n",
       "236                                           Wow   \n",
       "238                                        Get it   \n",
       "...                                           ...   \n",
       "9996341                   Impressive Little Thing   \n",
       "9996345  Works Great as Primer and to Control Oil   \n",
       "9996346                                 My New HG   \n",
       "9996347             4.5 Stars--Don't Pass This Up   \n",
       "9996355         Good at first, but didn't hold up   \n",
       "\n",
       "                                                      text     rest_id  \\\n",
       "222      Bad smell. I brought this to shine and clump c...  B0030F0U3Y   \n",
       "227      Buy it. This was my first Denman brush. I brou...  B00197623M   \n",
       "230      Okay. This makes your skin feel nice. I wish i...  B007DGRT3K   \n",
       "236      Wow. I’ve never used cuticle oil before so I d...  B00F644L32   \n",
       "238      Get it. I was concerned about how this would l...  B018YOVQSI   \n",
       "...                                                    ...         ...   \n",
       "9996341  Impressive Little Thing. I've been wanting to ...  B004DIUX34   \n",
       "9996345  Works Great as Primer and to Control Oil. This...  B000GCQ04C   \n",
       "9996346  My New HG. I finally tried this product after ...  B002ZTVMDI   \n",
       "9996347  4.5 Stars--Don't Pass This Up. Overall, this l...  B002LFRRIK   \n",
       "9996355  Good at first, but didn't hold up. When I firs...  B004DIXYWG   \n",
       "\n",
       "                              user_id  review_id  \n",
       "222      AEYORY2AVPMCPDV57CE337YU5LXA        222  \n",
       "227      AEYORY2AVPMCPDV57CE337YU5LXA        227  \n",
       "230      AEYORY2AVPMCPDV57CE337YU5LXA        230  \n",
       "236      AEYORY2AVPMCPDV57CE337YU5LXA        236  \n",
       "238      AEYORY2AVPMCPDV57CE337YU5LXA        238  \n",
       "...                               ...        ...  \n",
       "9996341  AHSLUOV2N2UYNJYQAK7YYONCMPHQ    9996341  \n",
       "9996345  AHSLUOV2N2UYNJYQAK7YYONCMPHQ    9996345  \n",
       "9996346  AHSLUOV2N2UYNJYQAK7YYONCMPHQ    9996346  \n",
       "9996347  AHSLUOV2N2UYNJYQAK7YYONCMPHQ    9996347  \n",
       "9996355  AHSLUOV2N2UYNJYQAK7YYONCMPHQ    9996355  \n",
       "\n",
       "[64010 rows x 5 columns]"
      ]
     },
     "execution_count": 36,
     "metadata": {},
     "output_type": "execute_result"
    }
   ],
   "source": [
    "filtered_users_df"
   ]
  },
  {
   "cell_type": "code",
   "execution_count": 37,
   "id": "04dfc2bb-2cc0-4c39-ae85-a27f26719828",
   "metadata": {},
   "outputs": [
    {
     "name": "stdout",
     "output_type": "stream",
     "text": [
      "Number of unique user_id: 8363\n",
      "Number of unique asin: 1434\n"
     ]
    }
   ],
   "source": [
    "filtered_users_df['rating'] = 5\n",
    "checkmydf(filtered_users_df, \"rest_id\")\n",
    "# Save the modified DataFrame back to a new CSV file\n",
    "filtered_users_df.to_csv(f\"./data/reviews/{nametofile}.csv\", index=False)"
   ]
  },
  {
   "cell_type": "code",
   "execution_count": 38,
   "id": "12001668-376b-40e7-8da1-7f9b99700fcd",
   "metadata": {},
   "outputs": [],
   "source": [
    "finalAuth = list(filtered_users_df[\"user_id\"].unique())"
   ]
  },
  {
   "cell_type": "code",
   "execution_count": 39,
   "id": "6deb59e9-32f3-451c-a3a9-54e34ebc873d",
   "metadata": {},
   "outputs": [
    {
     "data": {
      "text/plain": [
       "8363"
      ]
     },
     "execution_count": 39,
     "metadata": {},
     "output_type": "execute_result"
    }
   ],
   "source": [
    "len(finalAuth)"
   ]
  },
  {
   "cell_type": "code",
   "execution_count": 40,
   "id": "565c7105-1709-49e5-baf6-06fb6acaf877",
   "metadata": {},
   "outputs": [],
   "source": [
    "import random\n",
    "\n",
    "percentage = 0.04\n",
    "num_authors = int(len(finalAuth) * percentage)\n",
    "test_authors = random.sample(finalAuth, num_authors)\n"
   ]
  },
  {
   "cell_type": "code",
   "execution_count": 41,
   "id": "128a0798-20f1-42e3-a91e-f82dc5237357",
   "metadata": {},
   "outputs": [
    {
     "name": "stderr",
     "output_type": "stream",
     "text": [
      "C:\\Users\\Admin\\AppData\\Local\\Temp\\ipykernel_13544\\163831081.py:4: DeprecationWarning: Sampling from a set deprecated\n",
      "since Python 3.9 and will be removed in a subsequent version.\n",
      "  train_authors = random.sample(remain_author, num_authors)\n"
     ]
    }
   ],
   "source": [
    "remain_author = set(finalAuth) - set(test_authors)\n",
    "percentage = 0.4\n",
    "num_authors = int(len(remain_author) * percentage)\n",
    "train_authors = random.sample(remain_author, num_authors)"
   ]
  },
  {
   "cell_type": "code",
   "execution_count": 42,
   "id": "2dd5b28d-c604-4000-819b-24e534977b85",
   "metadata": {},
   "outputs": [
    {
     "name": "stdout",
     "output_type": "stream",
     "text": [
      "Number of authors in training set: 3211\n",
      "Number of authors in testing set: 334\n"
     ]
    }
   ],
   "source": [
    "print(\"Number of authors in training set:\", len(train_authors))\n",
    "print(\"Number of authors in testing set:\", len(test_authors))"
   ]
  },
  {
   "cell_type": "code",
   "execution_count": 43,
   "id": "1608827e-254e-4024-8e2d-a8d62cbe479d",
   "metadata": {},
   "outputs": [],
   "source": [
    "#  save train and test to json as following: {\"amazon\": {\"train\": [\"PVyZXgOkVtnU6966FDFhuw\",..], \"test\": [\"PVyZXgOkVtnU6966FDFhuw\",..]}}\n",
    "\n",
    "data = {\n",
    "    f\"{nametofile}\": {\n",
    "        \"train\": list(train_authors),\n",
    "        \"test\": list(test_authors)\n",
    "    }\n",
    "}\n",
    "\n",
    "with open(f'./data/reviews/{nametofile}_splits.json', 'w') as f:\n",
    "  json.dump(data, f)"
   ]
  },
  {
   "cell_type": "code",
   "execution_count": 44,
   "id": "0306096c-3720-4c6c-9552-82bc7f30d112",
   "metadata": {},
   "outputs": [],
   "source": [
    "s1 = set(filtered_users_df[filtered_users_df['user_id'].isin(train_authors)]['rest_id'].tolist())\n",
    "s2 = set(filtered_users_df[filtered_users_df['user_id'].isin(test_authors)]['rest_id'].tolist())"
   ]
  },
  {
   "cell_type": "code",
   "execution_count": 45,
   "id": "d7f967e7-55fa-4d08-a9a6-b3838fcb0667",
   "metadata": {},
   "outputs": [
    {
     "data": {
      "text/plain": [
       "(0, 1434, 1077, 1434)"
      ]
     },
     "execution_count": 45,
     "metadata": {},
     "output_type": "execute_result"
    }
   ],
   "source": [
    "len(s2-s1), len(s1), len(s2), len(s2|s1)"
   ]
  },
  {
   "cell_type": "code",
   "execution_count": 46,
   "id": "18533b87-856e-4707-97b9-43997d476b60",
   "metadata": {},
   "outputs": [
    {
     "data": {
      "text/plain": [
       "np.int64(25)"
      ]
     },
     "execution_count": 46,
     "metadata": {},
     "output_type": "execute_result"
    }
   ],
   "source": [
    "user_review_counts = filtered_users_df[\"rest_id\"].value_counts()\n",
    "user_review_counts.min()"
   ]
  },
  {
   "cell_type": "markdown",
   "id": "b60ac61e-9e8f-4448-bcd6-b187ba34c635",
   "metadata": {},
   "source": [
    "# Refine data"
   ]
  },
  {
   "cell_type": "code",
   "execution_count": 2,
   "id": "ba00b4e3-fcbc-4cfc-9943-0e945255e091",
   "metadata": {},
   "outputs": [],
   "source": [
    "import pandas as pd"
   ]
  },
  {
   "cell_type": "code",
   "execution_count": 180,
   "id": "d3103813-8bf3-4ba9-a48a-76a126797503",
   "metadata": {},
   "outputs": [],
   "source": [
    "asin_counts = filtered_users_df['rest_id'].value_counts()\n",
    "valid_asins = asin_counts[asin_counts >= 20].index\n",
    "df_filtered = filtered_users_df[filtered_users_df['rest_id'].isin(valid_asins)]"
   ]
  }
 ],
 "metadata": {
  "kernelspec": {
   "display_name": "Python 3 (ipykernel)",
   "language": "python",
   "name": "python3"
  },
  "language_info": {
   "codemirror_mode": {
    "name": "ipython",
    "version": 3
   },
   "file_extension": ".py",
   "mimetype": "text/x-python",
   "name": "python",
   "nbconvert_exporter": "python",
   "pygments_lexer": "ipython3",
   "version": "3.9.21"
  }
 },
 "nbformat": 4,
 "nbformat_minor": 5
}
